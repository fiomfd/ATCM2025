{
 "cells": [
  {
   "cell_type": "markdown",
   "id": "69a8cfd1",
   "metadata": {},
   "source": [
    "### Calculus I\n",
    "##### [Hiroyuki Chihara](https://fiomfd.github.io/) (University of the Ryukyus, Okinawa Island, Japan)\n",
    "\n",
    "1. Differentiability\n",
    "2. Convergence of Taylor series\n",
    "3. Convergence of Riemann sums"
   ]
  },
  {
   "cell_type": "code",
   "execution_count": null,
   "id": "a6f3782e",
   "metadata": {},
   "outputs": [],
   "source": [
    "from ipywidgets import interact\n",
    "import matplotlib.pyplot as plt\n",
    "plt.rcParams[\"text.usetex\"] = True\n",
    "import numpy as np\n",
    "import math"
   ]
  },
  {
   "cell_type": "markdown",
   "id": "419e18ac",
   "metadata": {},
   "source": [
    "### 1. Differentiability\n",
    "Let $f(x)$ be a function on an inverval $I$, and fix an arbitrary point $\\bigl(a,f(a)\\bigr)$ on the graph $\\Gamma(f):=\\{(x,f(x)) : x \\in I\\}$ of $f$. We consider all the lines passing trough $(a,f(a))$, that is, we deal with a line $y=g(x):=f(a)+\\beta(x-a)$ for all $\\beta\\in\\mathbb{R}$. Strictly speaking we do not sonsider the vertical line $x=a$.  We observe the difference $f(x)-g(x)$ as $x \\rightarrow a$. "
   ]
  },
  {
   "cell_type": "markdown",
   "id": "535a5bc3",
   "metadata": {},
   "source": [
    "### 1-1. Preliminaries"
   ]
  },
  {
   "cell_type": "code",
   "execution_count": null,
   "id": "9867710e",
   "metadata": {},
   "outputs": [],
   "source": []
  },
  {
   "cell_type": "markdown",
   "id": "300e948e",
   "metadata": {},
   "source": [
    "### 1-2. $f(x)=x^2$  \n",
    "If we set \n",
    "\n",
    "$g(x):=f(a)+\\beta(x-a)={\\color{orange}{a^2+\\beta(x-a)}},$\n",
    "\n",
    "then we have \n",
    "\n",
    "$\n",
    "\\begin{aligned}\n",
    "  f(x)-g(x)\n",
    "& =\n",
    "  x^2-a^2-\\beta(x-a)\n",
    "\\\\\n",
    "& =(x+a)(x-a)-\\beta(x-a)\n",
    "\\\\\n",
    "& =\n",
    "  (x+a-\\beta)(x-a)\n",
    "\\\\\n",
    "& =\n",
    "  (2a-\\beta)(x-a)+(x-a)^2.\n",
    "\\end{aligned}$\n",
    "\n",
    "Set $h(x)={\\color{green}{a^2+2a(x-a)}}$, which is $g(x)$ with the special value $\\beta=2a$. Then we have \n",
    "\n",
    "$R(x):=\n",
    "f(x)-h(x)=(x-a)^2,$\n",
    "\n",
    "which shows that $f(x) - h(x)$ goes to $0$ faster than $x-a$ and $f(x) - g(x)$ for all $\\beta{\\ne}2a$. "
   ]
  },
  {
   "cell_type": "code",
   "execution_count": null,
   "id": "68a20c5a",
   "metadata": {},
   "outputs": [],
   "source": []
  },
  {
   "cell_type": "markdown",
   "id": "b7e79bcf",
   "metadata": {},
   "source": [
    "### 1-3. $f(x)=\\lvert{x}\\rvert$, $a=0$  \n",
    "If we set\n",
    "\n",
    "$g(x):=f(0)+\\beta(x-0)={\\color{orange}{\\beta{x}}},$\n",
    "\n",
    "then we have \n",
    "\n",
    "$f(x)-g(x)\n",
    "=\n",
    "\\lvert{x}\\rvert-\\beta{x}\n",
    "=\n",
    "\\begin{cases}\n",
    "-(\\beta-1)x &\\ (x \\geqq0),\n",
    "\\\\\n",
    "-(\\beta+1)x &\\ (x <0).\n",
    "\\end{cases}$\n",
    "\n",
    "$f(x) - g(x)$ can never go to $0$ as $x\\rightarrow0$ faster that $x$ for any $\\beta\\in\\mathbb{R}$ since at least one of $\\beta\\pm1$ is not zero. "
   ]
  },
  {
   "cell_type": "code",
   "execution_count": null,
   "id": "aa0fa7e9",
   "metadata": {},
   "outputs": [],
   "source": []
  },
  {
   "cell_type": "markdown",
   "id": "7c3ea62b",
   "metadata": {},
   "source": [
    "### 1-4. Definition of differentiability\n",
    "\n",
    "Suppose that a function f(x)$ は $x=a$ is defined on an inverval $(a-\\delta,a+\\delta)$ near $x=a$. \n",
    "\n",
    "We say that $f(x)$ is differentiable at $x=a$ if exist  \n",
    "\n",
    "- a constant $\\alpha \\in \\mathbb{R}$\n",
    "- a function $R(x)$ defined near $x=a$\n",
    "\n",
    "such that \n",
    "\n",
    "$f(x)=f(a)+\\alpha(x-a)+R(x), \n",
    "\\qquad\n",
    "\\dfrac{R(x)}{x-a} \\rightarrow 0 \\quad (x \\rightarrow a).$\n",
    "\n",
    "In this case, the constant $\\alpha$ is said to be the differential coefficient of $f(x)$ at $x=a$, and denoted by  \n",
    "\n",
    "$\\dfrac{df}{dx}(a), \\quad f^\\prime(a).$\n",
    "\n",
    "Moreover the line passing through the point $\\bigl(a,f(a)\\bigr)$ with the slope $\\alpha=f^\\prime(a)$ \n",
    "\n",
    "$y\n",
    "=f(a)+f^\\prime(a)(x-a)$\n",
    "\n",
    "is said to be the tangent line of the graph $\\Gamma(f)$ of $f$ at $\\bigl(a,f(a)\\bigr)$. \n",
    "\n",
    "Roughly speaking, we say that $f(x)$ is differentiable at $x=a$ if there exists an unique tangent line of $\\Gamma(f)$ at $\\bigl(a,f(a)\\bigr)$. "
   ]
  },
  {
   "cell_type": "markdown",
   "id": "f653eab8",
   "metadata": {},
   "source": [
    "### 1-5. Theorem (Characterization of differentiability)\n",
    "The following conditions are mutually equivalent:\n",
    "\n",
    "- A function $f(x)$ is differentiable at $x=a$. \n",
    "\n",
    "- There exists $\\alpha \\in \\mathbb{R}$ such that $\\dfrac{f(x)-f(a)}{x-a} \\rightarrow \\alpha$ as $x \\rightarrow a$. "
   ]
  },
  {
   "cell_type": "code",
   "execution_count": null,
   "id": "ae7dcc93",
   "metadata": {},
   "outputs": [],
   "source": []
  },
  {
   "cell_type": "markdown",
   "id": "31d6d22f",
   "metadata": {},
   "source": [
    "### 2. Taylor's Theorem and Taylor Expansion\n",
    "\n",
    "Taylor's theorem says that if $f(x)$ is $C^\\infty$ near $x=a$ then for any $N=1,2,3,\\dotsc$, then \n",
    "\n",
    "$f(x)\n",
    "=\n",
    "\\displaystyle\\sum_{n=0}^{N-1}\n",
    "\\dfrac{f^{(n)}(a)}{n!}\n",
    "(x-a)^n\n",
    "+\n",
    "R_N(x),$\n",
    "\n",
    "$R_N(x)\n",
    "=\n",
    "\\dfrac{f^{(N)}\\bigl(\\theta{x}+(1-\\theta)a)}{N!}(x-a)^N,$\n",
    "\n",
    "$R_N(x)\n",
    "=\n",
    "\\dfrac{(x-a)^N}{(N-1)!}\n",
    "\\displaystyle\\int_0^1\n",
    "(1-t)^{N-1}\n",
    "f\\bigl(tx+(1-t)a)\n",
    "dt,$\n",
    "\n",
    "where $\\theta=\\theta(x,a,N)\\in(0,1)$ is a constant depending on $x$, $a$ and $N$. \n",
    "For **some** smooth function $f$ and **some** $x$, we have \n",
    "\n",
    "$f(x)\n",
    "-\n",
    "\\displaystyle\\sum_{n=0}^{N-1}\n",
    "\\dfrac{f^{(n)}(a)}{n!}\n",
    "(x-a)^n\n",
    "=\n",
    "R_N(x) \\rightarrow 0 \\quad\\text{as}\\quad N\\rightarrow\\infty.$\n",
    "\n",
    "In this case it is well-known that there exists $\\rho\\in(0,\\infty]$ such that \n",
    "\n",
    "$f(x)=\n",
    "\\displaystyle\\sum_{n=0}^\\infty\n",
    "\\dfrac{f^{(n)}(a)}{n!}\n",
    "(x-a)^n,\n",
    "\\quad\n",
    "x\\in(a-\\rho,a+\\rho).$\n",
    "\n",
    "The right hand side of the above is said to be the Taylor series or the Taylor expansion of $f(x)$ at center $x=a$ with convergence radius $\\rho$."
   ]
  },
  {
   "cell_type": "markdown",
   "id": "6cc1a87c",
   "metadata": {},
   "source": [
    "### Example: $\\sin{x}$\n",
    "$\\sin{x}=\n",
    "\\displaystyle\\sum_{k=0}^\\infty\n",
    "\\dfrac{(-1)^kx^{2k+1}}{(2k+1)!}, \\quad x\\in\\mathbb{R}.$\n",
    "\n",
    "For any $R>0$, \n",
    "\n",
    "$\\displaystyle\\max_{x\\in[-R,R]}\n",
    "\\left\\lvert\n",
    "\\sin{x}\n",
    "-\n",
    "\\displaystyle\\sum_{k=0}^K\n",
    "\\frac{(-1)^kx^{2k+1}}{(2k+1)!}\n",
    "\\right\\rvert\n",
    "\\rightarrow 0 \\quad (K\\rightarrow\\infty).$"
   ]
  },
  {
   "cell_type": "code",
   "execution_count": null,
   "id": "a4af4a5a",
   "metadata": {},
   "outputs": [],
   "source": [
    "def taylor_sin(K):\n",
    "    x = np.linspace(-3*np.pi, 3*np.pi, num = 101)\n",
    "    y1 = np.sin(x)\n",
    "    y2 = sum(((-1)**k)*(x**(2*k+1))/math.factorial(2*k+1) for k in range(K))\n",
    "    plt.plot(x, y1)\n",
    "    plt.plot(x, y2)\n",
    "    plt.ylim([-1.2,1.2])\n",
    "    #plt.xticks([-3*np.pi, -2*np.pi, -np.pi,0, np.pi, 2*np.pi, 3*np.pi], [ \"-3π\",\"-2π\",\"-π\",\"0\",\"π\",\"2π\",\"3π\"])\n",
    "    plt.xticks(\n",
    "    [-3*np.pi, -2*np.pi, -np.pi, 0, np.pi, 2*np.pi, 3*np.pi],\n",
    "    [r\"$-3\\pi$\", r\"$-2\\pi$\", r\"$-\\pi$\", \"0\", r\"$\\pi$\", r\"$2\\pi$\", r\"$3\\pi$\"])\n",
    "    plt.grid(False)\n",
    "    plt.show()\n",
    "interact(taylor_sin, K=(1, 14))"
   ]
  },
  {
   "cell_type": "markdown",
   "id": "64712b01",
   "metadata": {},
   "source": [
    "## 3. Riemann integrability and Riemann sum\n",
    "Suppose that $f(x)$ is a real-valued continuous function on a finite closed interval $[a,b]$. Divide $[a,b]$ into $n$ equal parts and denote the edges of the small intervals by \n",
    "\n",
    "$a_k=a+\\dfrac{k(b-a)}{n}, \\quad k=0,1,\\dotsc,n.$\n",
    "\n",
    "Note that $a_0=a$ and $a_n=b$. Consider the Riemann sum of the form\n",
    "\n",
    "$\n",
    "\\begin{aligned}\n",
    "  R_n\n",
    "& :=\n",
    "  \\sum_{k=1}^n\n",
    "  f\\left(\\dfrac{a_{k-1}+a_k}{2}\\right)\n",
    "  \\cdot\n",
    "  (a_k-a_{k-1}) \n",
    "\\\\\n",
    "& =\n",
    "  \\sum_{k=1}^n\n",
    "  f\\left(a+\\dfrac{(2k-1)(b-a)}{2n}\\right)\n",
    "  \\cdot\n",
    "  \\frac{b-a}{n}\n",
    "\\end{aligned},$ \n",
    "\n",
    "where the pick up point of each small interval $[a_{k-1},a_k]$ is the midpoint of the interval. This is the sum of signed areas of rectangles on the divided interval. \n",
    "\n",
    "It is knowm that the sequence $\\{R_n\\}_{n=1}^\\infty$ converges to some real nnumber $\\alpha$:\n",
    "\n",
    "$R_n \\rightarrow \\alpha \\quad (n \\rightarrow \\infty).$\n",
    "\n",
    "The real number $\\alpha$ is said to be the Riemann integral of $f(x)$ over $[a,b]$, \n",
    "and is denoted by \n",
    "\n",
    "$\\displaystyle\\int_a^bf(x)dx.$\n",
    "\n",
    "Observe such an example below."
   ]
  },
  {
   "cell_type": "code",
   "execution_count": null,
   "id": "f3635921",
   "metadata": {},
   "outputs": [],
   "source": []
  }
 ],
 "metadata": {
  "kernelspec": {
   "display_name": "Python 3 (ipykernel)",
   "language": "python",
   "name": "python3"
  },
  "language_info": {
   "codemirror_mode": {
    "name": "ipython",
    "version": 3
   },
   "file_extension": ".py",
   "mimetype": "text/x-python",
   "name": "python",
   "nbconvert_exporter": "python",
   "pygments_lexer": "ipython3",
   "version": "3.12.3"
  }
 },
 "nbformat": 4,
 "nbformat_minor": 5
}
