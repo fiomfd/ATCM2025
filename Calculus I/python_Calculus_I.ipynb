{
 "cells": [
  {
   "cell_type": "markdown",
   "id": "69a8cfd1",
   "metadata": {},
   "source": [
    "### Calculus I\n",
    "##### [Hiroyuki Chihara](https://fiomfd.github.io/) (University of the Ryukyus, Okinawa Island, Japan)\n",
    "\n",
    "1. Differentiability\n",
    "2. Convergence of Taylor series\n",
    "3. Convergence of Riemann sums"
   ]
  },
  {
   "cell_type": "code",
   "execution_count": 1,
   "id": "a6f3782e",
   "metadata": {},
   "outputs": [
    {
     "ename": "ModuleNotFoundError",
     "evalue": "No module named 'matplotlib'",
     "output_type": "error",
     "traceback": [
      "\u001b[31m---------------------------------------------------------------------------\u001b[39m",
      "\u001b[31mModuleNotFoundError\u001b[39m                       Traceback (most recent call last)",
      "\u001b[36mCell\u001b[39m\u001b[36m \u001b[39m\u001b[32mIn[1]\u001b[39m\u001b[32m, line 2\u001b[39m\n\u001b[32m      1\u001b[39m \u001b[38;5;28;01mfrom\u001b[39;00m\u001b[38;5;250m \u001b[39m\u001b[34;01mipywidgets\u001b[39;00m\u001b[38;5;250m \u001b[39m\u001b[38;5;28;01mimport\u001b[39;00m interact, FloatSlider\n\u001b[32m----> \u001b[39m\u001b[32m2\u001b[39m \u001b[38;5;28;01mimport\u001b[39;00m\u001b[38;5;250m \u001b[39m\u001b[34;01mmatplotlib\u001b[39;00m\u001b[34;01m.\u001b[39;00m\u001b[34;01mpyplot\u001b[39;00m\u001b[38;5;250m \u001b[39m\u001b[38;5;28;01mas\u001b[39;00m\u001b[38;5;250m \u001b[39m\u001b[34;01mplt\u001b[39;00m\n\u001b[32m      3\u001b[39m plt.rcParams[\u001b[33m\"\u001b[39m\u001b[33mtext.usetex\u001b[39m\u001b[33m\"\u001b[39m] = \u001b[38;5;28;01mFalse\u001b[39;00m\n\u001b[32m      4\u001b[39m \u001b[38;5;28;01mimport\u001b[39;00m\u001b[38;5;250m \u001b[39m\u001b[34;01mnumpy\u001b[39;00m\u001b[38;5;250m \u001b[39m\u001b[38;5;28;01mas\u001b[39;00m\u001b[38;5;250m \u001b[39m\u001b[34;01mnp\u001b[39;00m\n",
      "\u001b[31mModuleNotFoundError\u001b[39m: No module named 'matplotlib'"
     ]
    }
   ],
   "source": [
    "from ipywidgets import interact, FloatSlider\n",
    "import matplotlib.pyplot as plt\n",
    "plt.rcParams[\"text.usetex\"] = False\n",
    "import numpy as np\n",
    "import math"
   ]
  },
  {
   "cell_type": "code",
   "execution_count": null,
   "id": "408470b9-0587-4ba0-83d2-ac36a6497ba6",
   "metadata": {},
   "outputs": [
    {
     "name": "stdout",
     "output_type": "stream",
     "text": [
      "Collecting matplotlib\n",
      "  Downloading matplotlib-3.10.6-cp312-cp312-manylinux2014_x86_64.manylinux_2_17_x86_64.whl.metadata (11 kB)\n",
      "Collecting contourpy>=1.0.1 (from matplotlib)\n",
      "  Downloading contourpy-1.3.3-cp312-cp312-manylinux_2_27_x86_64.manylinux_2_28_x86_64.whl.metadata (5.5 kB)\n",
      "Collecting cycler>=0.10 (from matplotlib)\n",
      "  Downloading cycler-0.12.1-py3-none-any.whl.metadata (3.8 kB)\n",
      "Collecting fonttools>=4.22.0 (from matplotlib)\n",
      "  Downloading fonttools-4.59.2-cp312-cp312-manylinux1_x86_64.manylinux2014_x86_64.manylinux_2_17_x86_64.manylinux_2_5_x86_64.whl.metadata (109 kB)\n",
      "Collecting kiwisolver>=1.3.1 (from matplotlib)\n",
      "  Downloading kiwisolver-1.4.9-cp312-cp312-manylinux2014_x86_64.manylinux_2_17_x86_64.whl.metadata (6.3 kB)\n",
      "Collecting numpy>=1.23 (from matplotlib)\n",
      "  Downloading numpy-2.3.3-cp312-cp312-manylinux_2_27_x86_64.manylinux_2_28_x86_64.whl.metadata (62 kB)\n",
      "Requirement already satisfied: packaging>=20.0 in /home/hc/.julia/conda/3/x86_64/lib/python3.12/site-packages (from matplotlib) (25.0)\n",
      "Collecting pillow>=8 (from matplotlib)\n",
      "  Downloading pillow-11.3.0-cp312-cp312-manylinux_2_27_x86_64.manylinux_2_28_x86_64.whl.metadata (9.0 kB)\n",
      "Collecting pyparsing>=2.3.1 (from matplotlib)\n",
      "  Downloading pyparsing-3.2.3-py3-none-any.whl.metadata (5.0 kB)\n",
      "Requirement already satisfied: python-dateutil>=2.7 in /home/hc/.julia/conda/3/x86_64/lib/python3.12/site-packages (from matplotlib) (2.9.0.post0)\n",
      "Requirement already satisfied: six>=1.5 in /home/hc/.julia/conda/3/x86_64/lib/python3.12/site-packages (from python-dateutil>=2.7->matplotlib) (1.17.0)\n",
      "Downloading matplotlib-3.10.6-cp312-cp312-manylinux2014_x86_64.manylinux_2_17_x86_64.whl (8.7 MB)\n",
      "\u001b[2K   \u001b[38;2;114;156;31m━━━━━━━━━━━━━━━━━━━━━━━━━━━━━━━━━━━━━━━━\u001b[0m \u001b[32m8.7/8.7 MB\u001b[0m \u001b[31m8.0 MB/s\u001b[0m eta \u001b[36m0:00:00\u001b[0m[31m8.4 MB/s\u001b[0m eta \u001b[36m0:00:01\u001b[0mm\n",
      "\u001b[?25hDownloading contourpy-1.3.3-cp312-cp312-manylinux_2_27_x86_64.manylinux_2_28_x86_64.whl (362 kB)\n",
      "Downloading cycler-0.12.1-py3-none-any.whl (8.3 kB)\n",
      "Downloading fonttools-4.59.2-cp312-cp312-manylinux1_x86_64.manylinux2014_x86_64.manylinux_2_17_x86_64.manylinux_2_5_x86_64.whl (4.9 MB)\n",
      "\u001b[2K   \u001b[38;2;114;156;31m━━━━━━━━━━━━━━━━━━━━━━━━━━━━━━━━━━━━━━━━\u001b[0m \u001b[32m4.9/4.9 MB\u001b[0m \u001b[31m5.0 MB/s\u001b[0m eta \u001b[36m0:00:00\u001b[0m MB/s\u001b[0m eta \u001b[36m0:00:01\u001b[0m:01\u001b[0m\n",
      "\u001b[?25hDownloading kiwisolver-1.4.9-cp312-cp312-manylinux2014_x86_64.manylinux_2_17_x86_64.whl (1.5 MB)\n",
      "\u001b[2K   \u001b[38;2;114;156;31m━━━━━━━━━━━━━━━━━━━━━━━━━━━━━━━━━━━━━━━━\u001b[0m \u001b[32m1.5/1.5 MB\u001b[0m \u001b[31m2.5 MB/s\u001b[0m eta \u001b[36m0:00:00\u001b[0m MB/s\u001b[0m eta \u001b[36m0:00:01\u001b[0m\n",
      "\u001b[?25hDownloading numpy-2.3.3-cp312-cp312-manylinux_2_27_x86_64.manylinux_2_28_x86_64.whl (16.6 MB)\n",
      "\u001b[2K   \u001b[38;2;114;156;31m━━━━━━━━━━━━━━━━━━━━━━━━━━━━━━━━━━━━━━━━\u001b[0m \u001b[32m16.6/16.6 MB\u001b[0m \u001b[31m2.2 MB/s\u001b[0m eta \u001b[36m0:00:00\u001b[0mm eta \u001b[36m0:00:01\u001b[0m0:01\u001b[0m:01\u001b[0m\n",
      "\u001b[?25hDownloading pillow-11.3.0-cp312-cp312-manylinux_2_27_x86_64.manylinux_2_28_x86_64.whl (6.6 MB)\n",
      "\u001b[2K   \u001b[38;2;249;38;114m━━━━━━━━━━━━━━━━━━━━━━━━━━━━━━━\u001b[0m\u001b[38;2;249;38;114m╸\u001b[0m\u001b[38;5;237m━━━━━━━━\u001b[0m \u001b[32m5.2/6.6 MB\u001b[0m \u001b[31m1.2 MB/s\u001b[0m eta \u001b[36m0:00:02\u001b[0m0m"
     ]
    }
   ],
   "source": [
    "pip install matplotlib"
   ]
  },
  {
   "cell_type": "markdown",
   "id": "419e18ac",
   "metadata": {},
   "source": [
    "### 1. Differentiability\n",
    "Let $f(x)$ be a function on an inverval $I$, and fix an arbitrary point $\\bigl(a,f(a)\\bigr)$ on the graph $\\Gamma(f):=\\{(x,f(x)) : x \\in I\\}$ of $f$. We consider all the lines passing trough $(a,f(a))$, that is, we deal with a line $y=g(x):=f(a)+\\beta(x-a)$ for all $\\beta\\in\\mathbb{R}$. Strictly speaking we do not sonsider the vertical line $x=a$.  We observe the difference $f(x)-g(x)$ as $x \\rightarrow a$. "
   ]
  },
  {
   "cell_type": "markdown",
   "id": "535a5bc3",
   "metadata": {},
   "source": [
    "### 1-1. Preliminaries"
   ]
  },
  {
   "cell_type": "code",
   "execution_count": 2,
   "id": "9867710e",
   "metadata": {},
   "outputs": [
    {
     "data": {
      "application/vnd.jupyter.widget-view+json": {
       "model_id": "e7234c7302c04d55b0fc79da070952fd",
       "version_major": 2,
       "version_minor": 0
      },
      "text/plain": [
       "interactive(children=(FloatSlider(value=2.0, description='p', max=3.0, min=0.5), Output()), _dom_classes=('wid…"
      ]
     },
     "metadata": {},
     "output_type": "display_data"
    }
   ],
   "source": [
    "def powerp(p=2):\n",
    "    t = np.linspace(0, 1.2, num = 61)\n",
    "    s1 = t\n",
    "    s2 = t**p\n",
    "    s3 = 0*t\n",
    "    px = np.array([0, 1])\n",
    "    py = np.array([0, 1])\n",
    "    plt.title(\"s=t and s=t^p\")\n",
    "    plt.plot(t, s1)\n",
    "    plt.plot(t, s2)\n",
    "    plt.plot(t, s3,'--')\n",
    "    plt.scatter(px, py)\n",
    "    plt.ylim([-0.05,1.4])\n",
    "    plt.xticks([0,1])\n",
    "    plt.yticks([0,1])\n",
    "    plt.grid(False)\n",
    "    plt.show()\n",
    "interact(powerp, p=(0.5, 3, 0.1));"
   ]
  },
  {
   "cell_type": "markdown",
   "id": "300e948e",
   "metadata": {},
   "source": [
    "### 1-2. $f(x)=x^2$  \n",
    "If we set \n",
    "\n",
    "$g(x):=f(a)+\\beta(x-a)={\\color{orange}{a^2+\\beta(x-a)}},$\n",
    "\n",
    "then we have \n",
    "\n",
    "$\n",
    "\\begin{aligned}\n",
    "  f(x)-g(x)\n",
    "& =\n",
    "  x^2-a^2-\\beta(x-a)\n",
    "\\\\\n",
    "& =(x+a)(x-a)-\\beta(x-a)\n",
    "\\\\\n",
    "& =\n",
    "  (x+a-\\beta)(x-a)\n",
    "\\\\\n",
    "& =\n",
    "  (2a-\\beta)(x-a)+(x-a)^2.\n",
    "\\end{aligned}$\n",
    "\n",
    "Set $h(x)={\\color{green}{a^2+2a(x-a)}}$, which is $g(x)$ with the special value $\\beta=2a$. Then we have \n",
    "\n",
    "$R(x):=\n",
    "f(x)-h(x)=(x-a)^2,$\n",
    "\n",
    "which shows that $f(x) - h(x)$ goes to $0$ faster than $x-a$ and $f(x) - g(x)$ for all $\\beta{\\ne}2a$. "
   ]
  },
  {
   "cell_type": "code",
   "execution_count": 3,
   "id": "68a20c5a",
   "metadata": {},
   "outputs": [
    {
     "data": {
      "application/vnd.jupyter.widget-view+json": {
       "model_id": "61925acd46964335ab0515aff631612f",
       "version_major": 2,
       "version_minor": 0
      },
      "text/plain": [
       "interactive(children=(FloatSlider(value=-0.5, description='a', max=1.2, min=-1.2), FloatSlider(value=1.0, desc…"
      ]
     },
     "metadata": {},
     "output_type": "display_data"
    }
   ],
   "source": [
    "def xsquare(a=-0.5,beta=1):\n",
    "    x = np.linspace(-1.5, 1.5, num = 151)\n",
    "    y1 = x**2\n",
    "    y2 = -a**2+2*a*x\n",
    "    y3 = a**2+beta*(x-a)\n",
    "    ax = np.array([a])\n",
    "    ay = np.array([a**2])\n",
    "    plt.title(\"y=x^2 and lines passing through (a,a^2)\")\n",
    "    plt.plot(x, y1)\n",
    "    plt.plot(x, y2)\n",
    "    plt.plot(x, y3)\n",
    "    plt.scatter(ax, ay, c='r')\n",
    "    plt.ylim([-1,2.5])\n",
    "    plt.xticks([])\n",
    "    plt.yticks([])\n",
    "    plt.grid(False)\n",
    "    plt.show()\n",
    "interact(xsquare, a=(-1.2, 1.2, 0.1), beta=(-5,5,0.1));"
   ]
  },
  {
   "cell_type": "markdown",
   "id": "b7e79bcf",
   "metadata": {},
   "source": [
    "### 1-3. $f(x)=|x|$, $a=0$  \n",
    "If we set\n",
    "\n",
    "$g(x):=f(0)+\\beta(x-0)={\\color{orange}{\\beta{x}}},$\n",
    "\n",
    "then we have \n",
    "\n",
    "$f(x)-g(x)\n",
    "=\n",
    "|x|-\\beta{x}\n",
    "=\n",
    "\\begin{cases}\n",
    "-(\\beta-1)x &\\ (x \\geqq0),\n",
    "\\\\\n",
    "-(\\beta+1)x &\\ (x <0).\n",
    "\\end{cases}$\n",
    "\n",
    "$f(x) - g(x)$ can never go to $0$ as $x\\rightarrow0$ faster that $x$ for any $\\beta\\in\\mathbb{R}$ since at least one of $\\beta\\pm1$ is not zero. "
   ]
  },
  {
   "cell_type": "code",
   "execution_count": 4,
   "id": "aa0fa7e9",
   "metadata": {},
   "outputs": [
    {
     "data": {
      "application/vnd.jupyter.widget-view+json": {
       "model_id": "84a5135457f74ce9b3ee4452b42ea213",
       "version_major": 2,
       "version_minor": 0
      },
      "text/plain": [
       "interactive(children=(FloatSlider(value=-0.7, description='beta', max=5.0, min=-5.0), Output()), _dom_classes=…"
      ]
     },
     "metadata": {},
     "output_type": "display_data"
    }
   ],
   "source": [
    "def absx(beta=-0.7):\n",
    "    x = np.linspace(-1.2, 1.2, num = 121)\n",
    "    y1 = abs(x)\n",
    "    y2 = beta*x\n",
    "    ax = np.array([0])\n",
    "    ay = np.array([0])\n",
    "    plt.title(\"y=|x| and y=βx\")\n",
    "    plt.plot(x, y1)\n",
    "    plt.plot(x, y2)\n",
    "    plt.scatter(ax, ay, c='r')\n",
    "    plt.ylim([-0.5,1.2])\n",
    "    plt.xticks([])\n",
    "    plt.yticks([])\n",
    "    plt.grid(False)\n",
    "    plt.show()\n",
    "interact(absx,beta=(-5,5,0.1));"
   ]
  },
  {
   "cell_type": "markdown",
   "id": "7c3ea62b",
   "metadata": {},
   "source": [
    "### 1-4. Definition of differentiability\n",
    "\n",
    "Suppose that a function f(x)$ は $x=a$ is defined on an inverval $(a-\\delta,a+\\delta)$ near $x=a$. \n",
    "\n",
    "We say that $f(x)$ is differentiable at $x=a$ if exist  \n",
    "\n",
    "- a constant $\\alpha \\in \\mathbb{R}$\n",
    "- a function $R(x)$ defined near $x=a$\n",
    "\n",
    "such that \n",
    "\n",
    "$f(x)=f(a)+\\alpha(x-a)+R(x), \n",
    "\\qquad\n",
    "\\dfrac{R(x)}{x-a} \\rightarrow 0 \\quad (x \\rightarrow a).$\n",
    "\n",
    "In this case, the constant $\\alpha$ is said to be the differential coefficient of $f(x)$ at $x=a$, and denoted by  \n",
    "\n",
    "$\\dfrac{df}{dx}(a), \\quad f^\\prime(a).$\n",
    "\n",
    "Moreover the line passing through the point $\\bigl(a,f(a)\\bigr)$ with the slope $\\alpha=f^\\prime(a)$ \n",
    "\n",
    "$y\n",
    "=f(a)+f^\\prime(a)(x-a)$\n",
    "\n",
    "is said to be the tangent line of the graph $\\Gamma(f)$ of $f$ at $\\bigl(a,f(a)\\bigr)$. \n",
    "\n",
    "Roughly speaking, we say that $f(x)$ is differentiable at $x=a$ if there exists an unique tangent line of $\\Gamma(f)$ at $\\bigl(a,f(a)\\bigr)$. "
   ]
  },
  {
   "cell_type": "markdown",
   "id": "f653eab8",
   "metadata": {},
   "source": [
    "### 1-5. Theorem (Characterization of differentiability)\n",
    "The following conditions are mutually equivalent:\n",
    "\n",
    "- A function $f(x)$ is differentiable at $x=a$. \n",
    "\n",
    "- There exists $\\alpha \\in \\mathbb{R}$ such that $\\dfrac{f(x)-f(a)}{x-a} \\rightarrow \\alpha$ as $x \\rightarrow a$. "
   ]
  },
  {
   "cell_type": "markdown",
   "id": "31d6d22f",
   "metadata": {},
   "source": [
    "### 2. Taylor's Theorem and Taylor Expansion\n",
    "\n",
    "Taylor's theorem says that if $f(x)$ is $C^\\infty$ near $x=a$ then for any $N=1,2,3,\\dotsc$, then \n",
    "\n",
    "$f(x)\n",
    "=\n",
    "\\displaystyle\\sum_{n=0}^{N-1}\n",
    "\\dfrac{f^{(n)}(a)}{n!}\n",
    "(x-a)^n\n",
    "+\n",
    "R_N(x),$\n",
    "\n",
    "$R_N(x)\n",
    "=\n",
    "\\dfrac{f^{(N)}\\bigl(\\theta{x}+(1-\\theta)a)}{N!}(x-a)^N,$\n",
    "\n",
    "$R_N(x)\n",
    "=\n",
    "\\dfrac{(x-a)^N}{(N-1)!}\n",
    "\\displaystyle\\int_0^1\n",
    "(1-t)^{N-1}\n",
    "f\\bigl(tx+(1-t)a)\n",
    "dt,$\n",
    "\n",
    "where $\\theta=\\theta(x,a,N)\\in(0,1)$ is a constant depending on $x$, $a$ and $N$. \n",
    "For **some** smooth function $f$ and **some** $x$, we have \n",
    "\n",
    "$f(x)\n",
    "-\n",
    "\\displaystyle\\sum_{n=0}^{N-1}\n",
    "\\dfrac{f^{(n)}(a)}{n!}\n",
    "(x-a)^n\n",
    "=\n",
    "R_N(x) \\rightarrow 0 \\quad\\text{as}\\quad N\\rightarrow\\infty.$\n",
    "\n",
    "In this case it is well-known that there exists $\\rho\\in(0,\\infty]$ such that \n",
    "\n",
    "$f(x)=\n",
    "\\displaystyle\\sum_{n=0}^\\infty\n",
    "\\dfrac{f^{(n)}(a)}{n!}\n",
    "(x-a)^n,\n",
    "\\quad\n",
    "x\\in(a-\\rho,a+\\rho).$\n",
    "\n",
    "The right hand side of the above is said to be the Taylor series or the Taylor expansion of $f(x)$ at center $x=a$ with convergence radius $\\rho$."
   ]
  },
  {
   "cell_type": "markdown",
   "id": "6cc1a87c",
   "metadata": {},
   "source": [
    "### Example: $\\sin{x}$\n",
    "$\\sin{x}=\n",
    "\\displaystyle\\sum_{k=0}^\\infty\n",
    "\\dfrac{(-1)^kx^{2k+1}}{(2k+1)!}, \\quad x\\in\\mathbb{R}.$\n",
    "\n",
    "For any $R>0$, \n",
    "\n",
    "$\\displaystyle\\max_{x\\in[-R,R]}\n",
    "\\left\\lvert\n",
    "\\sin{x}\n",
    "-\n",
    "\\displaystyle\\sum_{k=0}^K\n",
    "\\frac{(-1)^kx^{2k+1}}{(2k+1)!}\n",
    "\\right\\rvert\n",
    "\\rightarrow 0 \\quad (K\\rightarrow\\infty).$"
   ]
  },
  {
   "cell_type": "code",
   "execution_count": 5,
   "id": "a4af4a5a",
   "metadata": {},
   "outputs": [
    {
     "data": {
      "application/vnd.jupyter.widget-view+json": {
       "model_id": "c2204222f3ac4a228a60672eef47d9c7",
       "version_major": 2,
       "version_minor": 0
      },
      "text/plain": [
       "interactive(children=(IntSlider(value=1, description='K', max=14, min=1), Output()), _dom_classes=('widget-int…"
      ]
     },
     "metadata": {},
     "output_type": "display_data"
    }
   ],
   "source": [
    "def taylor_sin(K=1):\n",
    "    x = np.linspace(-3*np.pi, 3*np.pi, num = 101)\n",
    "    y1 = np.sin(x)\n",
    "    y2 = sum(((-1)**k)*(x**(2*k+1))/math.factorial(2*k+1) for k in range(K))\n",
    "    plt.title(\"sin(x) and its Taylor plolynomials\")\n",
    "    plt.plot(x, y1)\n",
    "    plt.plot(x, y2)\n",
    "    plt.ylim([-1.2,1.2])\n",
    "    plt.xticks(\n",
    "    [-3*np.pi, -2*np.pi, -np.pi, 0, np.pi, 2*np.pi, 3*np.pi],\n",
    "    [r\"$-3\\pi$\", r\"$-2\\pi$\", r\"$-\\pi$\", \"0\", r\"$\\pi$\", r\"$2\\pi$\", r\"$3\\pi$\"])\n",
    "    plt.grid(False)\n",
    "    plt.show()\n",
    "interact(taylor_sin, K=(1, 14));"
   ]
  },
  {
   "cell_type": "markdown",
   "id": "64712b01",
   "metadata": {},
   "source": [
    "## 3. Riemann integrability and Riemann sum\n",
    "Suppose that $f(x)$ is a real-valued continuous function on a finite closed interval $[a,b]$. Divide $[a,b]$ into $n$ equal parts and denote the edges of the small intervals by \n",
    "\n",
    "$a_k=a+\\dfrac{k(b-a)}{n}, \\quad k=0,1,\\dotsc,n.$\n",
    "\n",
    "Note that $a_0=a$ and $a_n=b$. Consider the Riemann sum of the form\n",
    "\n",
    "$\n",
    "\\begin{aligned}\n",
    "  R_n\n",
    "& :=\n",
    "  \\sum_{k=1}^n\n",
    "  f\\left(\\dfrac{a_{k-1}+a_k}{2}\\right)\n",
    "  \\cdot\n",
    "  (a_k-a_{k-1}) \n",
    "\\\\\n",
    "& =\n",
    "  \\sum_{k=1}^n\n",
    "  f\\left(a+\\dfrac{(2k-1)(b-a)}{2n}\\right)\n",
    "  \\cdot\n",
    "  \\frac{b-a}{n}\n",
    "\\end{aligned},$ \n",
    "\n",
    "where the pick up point of each small interval $[a_{k-1},a_k]$ is the midpoint of the interval. This is the sum of signed areas of rectangles on the divided interval. \n",
    "\n",
    "It is knowm that the sequence $\\{R_n\\}_{n=1}^\\infty$ converges to some real nnumber $\\alpha$:\n",
    "\n",
    "$R_n \\rightarrow \\alpha \\quad (n \\rightarrow \\infty).$\n",
    "\n",
    "The real number $\\alpha$ is said to be the Riemann integral of $f(x)$ over $[a,b]$, \n",
    "and is denoted by \n",
    "\n",
    "$\\displaystyle\\int_a^bf(x)dx.$\n",
    "\n",
    "Observe such an example below."
   ]
  },
  {
   "cell_type": "code",
   "execution_count": 6,
   "id": "f3635921",
   "metadata": {},
   "outputs": [
    {
     "data": {
      "application/vnd.jupyter.widget-view+json": {
       "model_id": "69016fb592814458b8670a14a0bd479a",
       "version_major": 2,
       "version_minor": 0
      },
      "text/plain": [
       "interactive(children=(IntSlider(value=1, description='n', max=200, min=1), Output()), _dom_classes=('widget-in…"
      ]
     },
     "metadata": {},
     "output_type": "display_data"
    }
   ],
   "source": [
    "def riemann_1(n=1):\n",
    "    x = np.linspace(0.0, 1.0, 201)  \n",
    "    f = lambda t: np.sin(2*np.pi*t) + 3*t/4 + 1.3\n",
    "\n",
    "    k = np.floor(n * x)\n",
    "    k = np.minimum(k, n-1).astype(int)\n",
    "\n",
    "    x_left = (k+0.5) / n \n",
    "    y1 = f(x)                 \n",
    "    y2 = f(x_left)\n",
    "\n",
    "    plt.figure()\n",
    "    plt.title(\"Riemann sum\")\n",
    "    plt.plot(x, y1, label=\"f(x)\")\n",
    "    plt.fill_between(x, y2, step=\"mid\", alpha=0.5, color=\"C1\")\n",
    "    plt.step(x, y2, where='post', label=\"R_n\")\n",
    "    plt.xlim(-0.2, 1.2)\n",
    "    plt.ylim(0, 2.7)\n",
    "    plt.xticks([0, 1], [r\"$a$\", r\"$b$\"])\n",
    "    plt.yticks([0])\n",
    "    plt.grid(False)\n",
    "    plt.legend()\n",
    "    plt.show()\n",
    "\n",
    "interact(riemann_1, n=(1, 200));"
   ]
  },
  {
   "cell_type": "code",
   "execution_count": null,
   "id": "57e0e2f6-de89-4861-b803-4300b08647f6",
   "metadata": {},
   "outputs": [],
   "source": []
  }
 ],
 "metadata": {
  "kernelspec": {
   "display_name": "Python 3 (ipykernel)",
   "language": "python",
   "name": "python3"
  },
  "language_info": {
   "codemirror_mode": {
    "name": "ipython",
    "version": 3
   },
   "file_extension": ".py",
   "mimetype": "text/x-python",
   "name": "python",
   "nbconvert_exporter": "python",
   "pygments_lexer": "ipython3",
   "version": "3.12.11"
  }
 },
 "nbformat": 4,
 "nbformat_minor": 5
}
