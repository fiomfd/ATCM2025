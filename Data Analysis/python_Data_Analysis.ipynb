{
 "cells": [
  {
   "cell_type": "markdown",
   "id": "f04c29a5",
   "metadata": {},
   "source": [
    "### Data Analysis\n",
    "##### [Hiroyuki Chihara](https://fiomfd.github.io/) (University of the Ryukyus, Okinawa Island, Japan)\n",
    "\n",
    "1. Public data and visualization\n",
    "2. Central limit theorem"
   ]
  },
  {
   "cell_type": "markdown",
   "id": "24696863",
   "metadata": {},
   "source": [
    "### 1. Public data and visualization\n",
    "\n",
    "Let $\\vec{x}=\\bigl[x[1],\\dotsc,x[N]\\bigl]^T\\in\\mathbb{R}^N$ be an $N$-dimensional real column vector. This can describes data such as $x[i]$ means the highest temperature of the $i$-th day for $i=1,\\dotsc,N$. One can exploit some information such as the average $m$ and the variance $\\sigma^2$:\n",
    "\n",
    "$m:=\\dfrac{1}{N}\\displaystyle\\sum_{i=1}^Nx[i],\n",
    "\\quad\n",
    "\\sigma^2:=\\dfrac{1}{N}\\displaystyle\\sum_{i=1}^N(x[i]-m)^2.$\n",
    "\n",
    "In what follows Julia downloads open data, and visualizes information taking averages, maximums and minimums. More concretely Julia downloads \n",
    "- the daily maximum tenperature\n",
    "- the daily minimum tenpereture\n",
    "- the daily mean tenperature \n",
    "of 1884-present at the Hong Kong Observatory. The starting dates of  the theree data are not same, and so we make use of data of 140 years of 1885-2024. The Hong Kong Observatory dataset has no daily temperature records from 1 Jan 1940 to 31 Dec 1946, due to the disruption of WWII and the Japanese occupation. This 7-year gap means that analyses requiring continuous daily data over multiple years will be affected if these years are included. To ensure consistency, we restrict the analysis period to 1 Jan 1947 – 31 Dec 2024."
   ]
  },
  {
   "cell_type": "code",
   "execution_count": null,
   "id": "bcf4422d",
   "metadata": {},
   "outputs": [],
   "source": []
  },
  {
   "cell_type": "markdown",
   "id": "70c27984",
   "metadata": {},
   "source": [
    "Julia computes the annual maximum, average, and minmum temperatures, and shows the line graphs. One can see that the annual maximum, average and minimum temperatures have been increasing year and year. "
   ]
  },
  {
   "cell_type": "code",
   "execution_count": null,
   "id": "322509d4",
   "metadata": {},
   "outputs": [],
   "source": []
  },
  {
   "cell_type": "markdown",
   "id": "cd1a595b",
   "metadata": {},
   "source": [
    "Moreover, Julia computes the monthy maximum, average, and minmum temperatures, and shows the line graphs in each year. Choose the year using the slider. "
   ]
  },
  {
   "cell_type": "code",
   "execution_count": null,
   "id": "9188d4a5",
   "metadata": {},
   "outputs": [],
   "source": []
  },
  {
   "cell_type": "markdown",
   "id": "da48f0d2",
   "metadata": {},
   "source": [
    "### 2. Central limit theorem for the binomial distribution $B(n,p)$\n",
    "Let $n$ be a positive integer, and let $p$ be a constant satisfying $0 < p < 1$. \n",
    "Denote by $B(n,p)$ the the binomial distribution of $n$ iid experiments $X_1,\\dotsc,X_n$ with probability $p$, that is, a discrete probability distribution on $\\{0,1,\\dotsc,n\\}$ such that \n",
    "\n",
    "$\\operatorname{P}(S_n=k)=\\dfrac{n!}{k!(n-k)!}p^k(1-p)^{n-k}, \n",
    "\\quad\n",
    "k=0,1,\\dotsc,n,$\n",
    "\n",
    "where $S_n:=X_1+\\dotsb+X_n$.\n",
    "\n",
    "It is well-known that for any $a,b\\in\\mathbb{R}$ with $a<b$, \n",
    "\n",
    "$\\operatorname{P}\n",
    "\\left(\n",
    "a \\leqq \\dfrac{S_n-pn}{\\sqrt{np(1-p)}} \\leqq b\n",
    "\\right)\n",
    "\\rightarrow\n",
    "\\dfrac{1}{\\sqrt{2\\pi}}\n",
    "\\displaystyle\\int_a^be^{-x^2/2}dx\n",
    "\\quad\n",
    "(n \\rightarrow \\infty),$\n",
    "\n",
    "which is a typical example of the central limit theorem. We now observe this phenomenon for $p=0.1,\\dotsc,0.9$. "
   ]
  },
  {
   "cell_type": "code",
   "execution_count": null,
   "id": "85edb62d",
   "metadata": {},
   "outputs": [],
   "source": []
  }
 ],
 "metadata": {
  "kernelspec": {
   "display_name": "Python 3 (ipykernel)",
   "language": "python",
   "name": "python3"
  },
  "language_info": {
   "codemirror_mode": {
    "name": "ipython",
    "version": 3
   },
   "file_extension": ".py",
   "mimetype": "text/x-python",
   "name": "python",
   "nbconvert_exporter": "python",
   "pygments_lexer": "ipython3",
   "version": "3.12.3"
  }
 },
 "nbformat": 4,
 "nbformat_minor": 5
}
