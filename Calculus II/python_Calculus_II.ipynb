{
 "cells": [
  {
   "cell_type": "markdown",
   "id": "b07c3306",
   "metadata": {},
   "source": [
    "### Calculus II\n",
    "##### [Hiroyuki Chihara](https://fiomfd.github.io/) (University of the Ryukyus, Okinawa Island, Japan)\n",
    "\n",
    "1. Tangent planes\n",
    "2. Polar coordinates\n",
    "3. Newton's method and gradiend descent\n",
    "4. Riemann sums and Riemann integrals"
   ]
  },
  {
   "cell_type": "code",
   "execution_count": 4,
   "id": "b97782a3",
   "metadata": {},
   "outputs": [],
   "source": [
    "import matplotlib.pyplot as plt\n",
    "plt.rcParams[\"text.usetex\"] = False\n",
    "import numpy as np\n",
    "import math\n",
    "import matplotlib\n",
    "from matplotlib.widgets import Slider\n",
    "from mpl_toolkits.mplot3d import Axes3D\n",
    "from ipywidgets import FloatSlider, IntSlider, interact, interactive_output, VBox\n",
    "from matplotlib.patches import FancyArrowPatch\n",
    "import mpl_toolkits.mplot3d.art3d as art3d\n",
    "from matplotlib import cm\n",
    "from mpl_toolkits.mplot3d import Axes3D"
   ]
  },
  {
   "cell_type": "markdown",
   "id": "661f19fa",
   "metadata": {},
   "source": [
    "### Tangent Plane of a Surface\n",
    "Suppose that $f(x,y)$ is a $C^1$-function. Then $f(x,y)$ is totally differentiable everywhere. Consider a surface $z=f(x,y)$. Its tangent plane $z=h(x,y)$ at \n",
    "$\\bigl(a,b,f(a,b)\\bigr)$ is given by \n",
    "\n",
    "$h(x,y):=f(a,b)+f_x(a,b)(x-a)+f_y(a,b)(y-b).$\n",
    "\n",
    "We observe the relation of $z=f(x,y)$, $z=h(x,y)$, $f_x(a,b)$ and $f_y(a,b)$ near the tngent point $\\bigl(a,b,f(a,b)\\bigr)$."
   ]
  },
  {
   "cell_type": "code",
   "execution_count": 22,
   "id": "810aefd4-2aa1-402a-a4bb-ae7a039c10f8",
   "metadata": {},
   "outputs": [
    {
     "data": {
      "application/vnd.jupyter.widget-view+json": {
       "model_id": "a554d0bd1f74497f9bb93f17f18de5ef",
       "version_major": 2,
       "version_minor": 0
      },
      "text/plain": [
       "interactive(children=(FloatSlider(value=0.4, description='a', max=0.7, min=-0.7), FloatSlider(value=-0.4, desc…"
      ]
     },
     "metadata": {},
     "output_type": "display_data"
    }
   ],
   "source": [
    "x = np.linspace(-1.2, 1.2, 49)\n",
    "y = np.linspace(-1.2, 1.2, 49)\n",
    "X, Y = np.meshgrid(x, y, indexing=\"xy\")\n",
    "\n",
    "def f(X, Y):\n",
    "    # z = 1 - x^2 - y^2\n",
    "    return 1 - X**2 - Y**2\n",
    "\n",
    "def tangent_plane(X, Y, a, b):\n",
    "    # f(a,b) - 2a(x-a) - 2b(y-b) = 1 + a^2 + b^2 - 2ax - 2by\n",
    "    return (1 - a**2 - b**2) - 2*a*(X - a) - 2*b*(Y - b)\n",
    "\n",
    "Z = f(X, Y)\n",
    "\n",
    "def tangential(a=0.4,b=-0.4,latitude=30,longitude=30):\n",
    "    #axs = plt.subplots(1, 2)\n",
    "    fig=plt.figure(figsize=(6,6),facecolor='w')\n",
    "    ax = fig.add_subplot(projection='3d')\n",
    "    ax.set_title('z=f(x,y) and its tangent plane at (a,b,f(a,b))')\n",
    "    ax.set_zlim([-2,4])\n",
    "    ax.set_xticks([-1,0,1])\n",
    "    ax.set_yticks([-1,0,1])\n",
    "    ax.set_xlabel('x')\n",
    "    ax.set_ylabel('y')\n",
    "    ax.set_zlabel('z')\n",
    "    ax.plot_surface(X, Y, Z, alpha=0.7, linewidth=0, antialiased=True, color=\"C7\")\n",
    "    Zt = tangent_plane(X, Y, a, b)\n",
    "    ax.plot_surface(X, Y, Zt, alpha=0.4, linewidth=0, antialiased=True, color=\"C1\")\n",
    "    ax.scatter([a], [b], [1 - a**2 - b**2], s=40, color=\"C3\")\n",
    "    ax.view_init(elev=latitude,azim=longitude)\n",
    "\n",
    "    #fig=plt.figure(figsize=(6,6),facecolor='w')\n",
    "    #axs[0.1].plot_surface(X, Y, Z, alpha=0.7, linewidth=0, antialiased=True, color=\"C7\")\n",
    "    \n",
    "    plt.show()\n",
    "\n",
    "interact(tangential, a=(-0.7, 0.7, 0.1), b=(-0.7, 0.7, 0.1), latitude=(-40, 40, 1), longitude=(-120,120,1));"
   ]
  },
  {
   "cell_type": "markdown",
   "id": "3c77a07a",
   "metadata": {},
   "source": [
    "### 2D Polar Coordinate System\n",
    "$(x,y)=(r\\cos\\theta,r\\sin\\theta),\\quad (r,\\theta)=[0,\\infty)\\times[0,2\\pi).$"
   ]
  },
  {
   "cell_type": "code",
   "execution_count": 3,
   "id": "5e3d314c",
   "metadata": {},
   "outputs": [
    {
     "data": {
      "application/vnd.jupyter.widget-view+json": {
       "model_id": "968e536d2efa4d7e92f34f678f4d7c7d",
       "version_major": 2,
       "version_minor": 0
      },
      "text/plain": [
       "interactive(children=(FloatSlider(value=3.0, description='r', max=4.0), IntSlider(value=135, description='thet…"
      ]
     },
     "metadata": {},
     "output_type": "display_data"
    }
   ],
   "source": [
    "theta1=np.linspace(0,359,360)\n",
    "COS=np.cos(2*math.pi*theta1/360)\n",
    "SIN=np.sin(2*math.pi*theta1/360)\n",
    "\n",
    "def polar2d(r=3,theta=135):\n",
    "    plt.figure(figsize=(5,5))\n",
    "    plt.plot(4.2*COS,4.2*SIN,color=\"#ffffff\")\n",
    "    plt.arrow(-4.2, 0, 8.4, 0, \n",
    "          head_width=0.2, head_length=0.3, linewidth=0.3,\n",
    "          length_includes_head=True)\n",
    "    plt.arrow(0,-4.2, 0, 8.4, \n",
    "          head_width=0.2, head_length=0.3, linewidth=0.3,\n",
    "          length_includes_head=True)\n",
    "    plt.plot(r*COS[0:theta],r*SIN[0:theta],color=\"green\")\n",
    "    plt.plot([0,r*np.cos(2*math.pi*theta/360)],[0,r*np.sin(2*math.pi*theta/360)],color=\"blue\", linewidth=1)\n",
    "    plt.plot([r*np.cos(2*math.pi*theta/360),r*np.cos(2*math.pi*theta/360)],[0,r*np.sin(2*math.pi*theta/360)],linewidth=0.5, linestyle=\":\")\n",
    "    plt.plot([0,r*np.cos(2*math.pi*theta/360)],[r*np.sin(2*math.pi*theta/360),r*np.sin(2*math.pi*theta/360)],linewidth=0.5, linestyle=\":\")\n",
    "    plt.xlim([-4.3,4.3])\n",
    "    plt.ylim([-4.3,4.3])\n",
    "    plt.xlabel(\"x\")\n",
    "    plt.ylabel(\"y\")\n",
    "    plt.scatter([r*np.cos(2*math.pi*theta/360)],[r*np.sin(2*math.pi*theta/360)],color=\"magenta\")\n",
    "    plt.axis('equal')\n",
    "    plt.show()\n",
    "\n",
    "interact(polar2d, r=(0, 4, 0.1), theta=(0, 359));"
   ]
  },
  {
   "cell_type": "markdown",
   "id": "c2a808c5",
   "metadata": {},
   "source": [
    "### 3D Polar Coordinate System\n",
    "$(x,y,z)=(r\\sin\\theta\\cos\\varphi, r\\sin\\theta \\sin\\varphi,r\\cos\\theta),\n",
    "\\quad\n",
    "(r,\\theta,\\varphi)\\in[0,\\infty)\\times[0,\\pi]\\times[0,2\\pi).$"
   ]
  },
  {
   "cell_type": "code",
   "execution_count": 4,
   "id": "6a9b5cc5-4578-4263-9222-fca074157208",
   "metadata": {},
   "outputs": [
    {
     "data": {
      "application/vnd.jupyter.widget-view+json": {
       "model_id": "06f0057b85604518b85dddf8339ef971",
       "version_major": 2,
       "version_minor": 0
      },
      "text/plain": [
       "interactive(children=(FloatSlider(value=3.5, description='r', max=4.0), IntSlider(value=30, description='theta…"
      ]
     },
     "metadata": {},
     "output_type": "display_data"
    }
   ],
   "source": [
    "R = 4.0\n",
    "\n",
    "def xyz_from_rtp(r, theta_deg, phi_deg):\n",
    "    th = np.deg2rad(theta_deg); ph = np.deg2rad(phi_deg)\n",
    "    x = r*np.sin(th)*np.cos(ph)\n",
    "    y = r*np.sin(th)*np.sin(ph)\n",
    "    z = r*np.cos(th)\n",
    "    return x, y, z, th, ph\n",
    "\n",
    "def arc_phi(ax, radius, phi, **kw):\n",
    "    t = np.linspace(0.0, phi, max(2, int(abs(np.degrees(phi))) + 2))\n",
    "    ax.plot(radius*np.cos(t), radius*np.sin(t), 0*t, **kw)\n",
    "\n",
    "def arc_theta(ax, radius, theta, phi, **kw):\n",
    "    u = np.array([np.cos(phi), np.sin(phi), 0.0]) \n",
    "    t = np.linspace(0.0, theta, max(2, int(abs(np.degrees(theta))) + 2))\n",
    "    x = radius*np.sin(t)*u[0]; y = radius*np.sin(t)*u[1]; z = radius*np.cos(t)\n",
    "    ax.plot(x, y, z, **kw)\n",
    "\n",
    "def update(r, theta, phi):\n",
    "    x, y, z, th, ph = xyz_from_rtp(r, theta, phi)\n",
    "\n",
    "    fig = plt.figure(figsize=(5.5, 5.5))\n",
    "    ax  = fig.add_subplot(111, projection='3d')\n",
    "\n",
    "    ax.plot([-R*1.05, R*1.05], [0, 0], [0, 0], color='k', lw=1)\n",
    "    ax.plot([0, 0], [-R*1.05, R*1.05], [0, 0], color='k', lw=1)\n",
    "    ax.plot([0, 0], [0, 0], [-R*1.05, R*1.05], color='k', lw=1)\n",
    "    ax.set(xlim=(-R, R), ylim=(-R, R), zlim=(-R, R))\n",
    "    ax.set_box_aspect([1, 1, 1])\n",
    "    ax.set_xticks([]); ax.set_yticks([]); ax.set_zticks([])\n",
    "    ax.grid(False)\n",
    "    ax.text(0, 0, R*1.08, \"z\"); ax.text(R*1.25, 0, 0, \"x\"); ax.text(0, R*1.08, 0, \"y\")\n",
    "\n",
    "    # ベクトル・射影・点\n",
    "    ax.plot([0, x], [0, y], [0, z], lw=3, color='royalblue')       \n",
    "    ax.plot([0, x], [0, y], [0, 0], lw=2, color='forestgreen')    \n",
    "    ax.plot([x, x], [y, y], [0, z], lw=1.2, ls='--', color='0.3')\n",
    "    ax.plot([0, x], [0, y], [z, z], lw=1.2, ls='--', color='0.3')\n",
    "    ax.plot([0, x], [y, y], [0, 0], lw=1.2, ls='--', color='0.3')\n",
    "    ax.plot([x, x], [0, y], [0, 0], lw=1.2, ls='--', color='0.3')\n",
    "    ax.scatter([x], [y], [z], s=50, color='red', zorder=5)   \n",
    "    ax.scatter([x], [y], [0], s=50, color='green', zorder=5)  \n",
    "\n",
    "    # 角度の弧\n",
    "    arc_phi(ax,   r*np.sin(math.pi*theta/180), ph, color='magenta', lw=2)               # φ（XY平面）\n",
    "    arc_theta(ax, r, th, ph, color='skyblue', lw=2)           # θ（z–方向φの平面）\n",
    "\n",
    "    ax.view_init(elev=12, azim=25)\n",
    "    plt.show()\n",
    "\n",
    "interact(\n",
    "    update,\n",
    "    r=FloatSlider(value=3.5, min=0.0, max=R,   step=0.1, description=\"r\"),\n",
    "    theta=IntSlider(value=30,  min=0,   max=180, step=1,   description=\"theta\"),\n",
    "    phi=IntSlider(value=150,    min=0,   max=359, step=1,   description=\"phi\"),\n",
    ");"
   ]
  },
  {
   "cell_type": "markdown",
   "id": "e1181e55",
   "metadata": {},
   "source": [
    "### Newton's Method vs Gradient Descent\n",
    "Given a smooth funtion \n",
    "\n",
    "$f:\\mathbb{R}^n\\ni\\vec{x}=[x_1,\\dotsc,x_n]^T \\mapsto f(\\vec{x})\\in\\mathbb{R}$ \n",
    "\n",
    "and an initial point $\\vec{x}_0\\in\\mathbb{R}^n$, \n",
    "\n",
    "- Newton's method formally defines a sequence $\\{\\vec{x}_n\\}_{n=1,2,3,\\dotsc}$ by \n",
    "\n",
    "$\\vec{x}_{n+1}:=\\vec{x}_n-\\bigl(\\nabla^2f(\\vec{x}_n)\\bigr)^{-1}{\\nabla}f(\\vec{x}_n), \n",
    "\\quad n=1,2,3,\\dotsc.$\n",
    "\n",
    "- The Gradient descent defines a sequence $\\{\\vec{x}_n\\}_{n=1,2,3,\\dotsc}$ by \n",
    "\n",
    "$\\vec{x}_{n+1}:=\\vec{x}_n-s{\\nabla}f(\\vec{x}_n), \\quad n=1,2,3,\\dotsc,\\quad s>0.$"
   ]
  },
  {
   "cell_type": "code",
   "execution_count": 5,
   "id": "879fe380",
   "metadata": {},
   "outputs": [
    {
     "data": {
      "application/vnd.jupyter.widget-view+json": {
       "model_id": "b8ed1907c54340548958981209a7049a",
       "version_major": 2,
       "version_minor": 0
      },
      "text/plain": [
       "interactive(children=(FloatSlider(value=0.8, description='x0', max=1.0, min=-1.0), FloatSlider(value=0.8, desc…"
      ]
     },
     "metadata": {},
     "output_type": "display_data"
    }
   ],
   "source": [
    "N5=100;\n",
    "x = np.linspace(-1.7, 0.9, 27)\n",
    "y = np.linspace(-1.3, 1.3, 27)\n",
    "X, Y = np.meshgrid(x, y, indexing=\"xy\")\n",
    "\n",
    "def f(X, Y):\n",
    "    return 2*X**3 + X*Y**2 + 5*X**2 + Y**2\n",
    "\n",
    "Z = f(X, Y)\n",
    "\n",
    "def newton(x0=0.8,y0=0.8,stepsize=0.02,n=0):\n",
    "    Y4=np.zeros((N5+1,3))\n",
    "    Y4[0,0]=x0\n",
    "    Y4[0,1]=y0\n",
    "    z0=2*x0**3+x0*y0**2+5*x0**2+y0**2\n",
    "    Y4[0,2]=z0\n",
    "    Y5=np.zeros((N5+1,3))\n",
    "    Y5[0,0]=x0\n",
    "    Y5[0,1]=y0\n",
    "    Y4[0,2]=z0\n",
    "    for k in range(1, N5):\n",
    "        D=12*Y4[k-1,0]**2-2*Y4[k-1,1]**2+22*Y4[k-1,0]+10;\n",
    "        Y4[k,0]=(12*Y4[k-1,0]**3-2*Y4[k-1,0]*Y4[k-1,1]**2+21*Y4[k-1,0]**2+Y4[k-1,1]**2+9*Y4[k-1,0])/D;\n",
    "        Y4[k,1]=Y4[k-1,1]*(12*Y4[k-1,0]**2-Y4[k-1,1]**2+17*Y4[k-1,0]+5)/D;\n",
    "        Y4[k,2]=2*Y4[k,0]**3+Y4[k,0]*Y4[k,1]**2+5*Y4[k,0]**2+Y4[k,1]**2;\n",
    "        Y5[k,0]=Y5[k-1,0]-stepsize*(6*Y5[k-1,0]**2+Y5[k-1,1]**2+10*Y5[k-1,0]);\n",
    "        Y5[k,1]=Y5[k-1,1]-stepsize*(2*Y5[k-1,0]*Y5[k-1,1]+2*Y5[k-1,1]);\n",
    "        Y5[k,2]=2*Y5[k,0]**3+Y5[k,0]*Y5[k,1]**2+5*Y5[k,0]**2+Y5[k,1]**2;\n",
    "\n",
    "    fig = plt.figure(figsize=(6, 6), facecolor='w')\n",
    "    ax = fig.add_subplot(111, projection='3d')\n",
    "    ax.set_title(\"Newton's Method vs Gradient Descent\")\n",
    "    ax.set_xlim(-1.7, 0.9)\n",
    "    ax.set_ylim(-1.3, 1.3)\n",
    "    ax.set_zlim(0, 9)\n",
    "    ax.set_axis_off()\n",
    "    ax.view_init(elev=30, azim=240)\n",
    "    plt.draw()                    \n",
    "    ax.plot_surface(X, Y, Z, alpha=0.5, linewidth=0, antialiased=True, color=\"C7\")\n",
    "    ax.scatter([Y4[1:n,0]], [Y4[1:n,1]], [Y4[1:n,2]], s=5, color='red', label=\"Newton's Method\") \n",
    "    ax.scatter([Y5[1:n,0]], [Y5[1:n,1]], [Y5[1:n,2]], s=5, color='magenta', label='Gradient Descent')\n",
    "    ax.scatter([x0], [y0], [z0], s=20, color='green', label='(x0,y0)') \n",
    "    ax.scatter([0], [0], [0], s=20, color='blue', label='Minimal Point') \n",
    "    ax.legend()\n",
    "    plt.show()\n",
    "\n",
    "interact(newton, x0=(-1,1,0.1), y0=(-1,1,0.1), stepsize=(0.01,0.1,0.01), n=(0,N5));"
   ]
  },
  {
   "cell_type": "markdown",
   "id": "601f0ec7",
   "metadata": {},
   "source": [
    "### Riemann Sum"
   ]
  },
  {
   "cell_type": "code",
   "execution_count": 6,
   "id": "cb8fb6e1",
   "metadata": {},
   "outputs": [
    {
     "data": {
      "image/png": "[encoded data removed]",
      "text/plain": [
       "<Figure size 800x600 with 1 Axes>"
      ]
     },
     "metadata": {},
     "output_type": "display_data"
    }
   ],
   "source": [
    "n8 = 5\n",
    "N8 = 100\n",
    "x8 = np.linspace(-0.3, 1.3, N8 + 61)\n",
    "y8 = np.linspace(-0.3, 1.3, N8 + 61)\n",
    "rng = np.random.default_rng(0)\n",
    "R8 = rng.random((n8, n8))\n",
    "z8 = np.zeros((N8 + 61, N8 + 61))\n",
    "z8[29, 29] = R8[0, 0]\n",
    "\n",
    "for k in range(N8): \n",
    "    z8[29, 30 + k] = R8[0, k // 20] \n",
    "    z8[30 + k, 29] = R8[k // 20, 0] \n",
    "    for l in range(N8):\n",
    "        z8[30 + k, 30 + l] = R8[k // 20, l // 20]\n",
    "        \n",
    "X8, Y8 = np.meshgrid(x8, y8, indexing=\"xy\")\n",
    "\n",
    "fig = plt.figure(figsize=(8, 6))\n",
    "ax = fig.add_subplot(111, projection='3d')\n",
    "\n",
    "surf = ax.plot_surface(X8, Y8, z8, cmap=\"GnBu\", linewidth=0, antialiased=True)\n",
    "ax.set_title(\"A Step Function\")\n",
    "\n",
    "ax.set_xlim(-0.3, 1.3)\n",
    "ax.set_ylim(-0.3, 1.3)\n",
    "ax.set_zlim(0, 1.1)\n",
    "\n",
    "ax.set_xticks([0, 1]); ax.set_xticklabels([r\"$a$\", r\"$b$\"])\n",
    "ax.set_yticks([0, 1]); ax.set_yticklabels([r\"$c$\", r\"$d$\"])\n",
    "ax.set_zticks([])\n",
    "\n",
    "ax.set_xlabel(r\"$x$\")\n",
    "ax.set_ylabel(r\"$y$\")\n",
    "ax.set_zlabel(r\"$z$\")\n",
    "ax.grid(False)\n",
    "\n",
    "ax.plot([-0.3, 1.3], [0, 0],   [0, 0],   linestyle=\"--\", linewidth=1, color=\"black\")\n",
    "ax.plot([1, 1.3],   [1, 1],   [0, 0],   linestyle=\"--\", linewidth=1, color=\"black\")\n",
    "ax.plot([1, 1],     [-0.3, 1.3], [0, 0], linestyle=\"--\", linewidth=1, color=\"black\")\n",
    "ax.plot([0, 0],     [-0.3, 0], [0, 0],   linestyle=\"--\", linewidth=1, color=\"black\")\n",
    "\n",
    "plt.show()"
   ]
  },
  {
   "cell_type": "markdown",
   "id": "fc3fb058",
   "metadata": {},
   "source": [
    "### Convergence of Riemann Sum\n",
    "Given a continuous function $f(x,y)$ on $I=[a,b]\\times[c,d]$. Theoretically $f(x,y)$ is Riemann integrable. \n",
    "\n",
    "We have a division of $I$ splitting $[a,b]$ and $[c,d]$ into $n$-equal parts respectively:\n",
    "\n",
    "$I_{jk}=\\left[a+\\dfrac{(b-a)(j-1)}{n},a+\\dfrac{(b-a)j}{n}\\right]\\times\\left[c+\\dfrac{(d-c)(k-1)}{n},c+\\dfrac{(d-c)k}{n}\\right].$\n",
    "\n",
    "Pick up arbitrary $(x_{jk},y_{jk}) \\in I_{jk}$. Define a Riemann sum $R_n$ of $f(x,y)$ by \n",
    "\n",
    "$R_n\n",
    "=\n",
    "\\displaystyle\\sum_{j=1}^n\n",
    "\\displaystyle\\sum_{k=1}^n\n",
    "f(x_{jk},y_{jk})\\lvert{I_{jk}}\\rvert\n",
    "=\n",
    "\\dfrac{(b-a)(d-c)}{n^2}\n",
    "\\displaystyle\\sum_{j=1}^n\n",
    "\\displaystyle\\sum_{k=1}^n\n",
    "f(x_{jk},y_{jk}).$\n",
    "\n",
    "Then \n",
    "\n",
    "$R_n \\rightarrow \n",
    "\\displaystyle\\iint_{I}f(x,y)dxdy \\quad (n \\rightarrow \\infty).$"
   ]
  },
  {
   "cell_type": "code",
   "execution_count": 7,
   "id": "df172d9e",
   "metadata": {},
   "outputs": [
    {
     "data": {
      "application/vnd.jupyter.widget-view+json": {
       "model_id": "a6a0e5f6329649e1b2ce0d33e799849a",
       "version_major": 2,
       "version_minor": 0
      },
      "text/plain": [
       "interactive(children=(IntSlider(value=1, description='$n=$', max=120, min=1), Output()), _dom_classes=('widget…"
      ]
     },
     "metadata": {},
     "output_type": "display_data"
    }
   ],
   "source": [
    "def f(x, y):\n",
    "    return 3 - x**2 - y**2\n",
    "\n",
    "a, b = -1.0, 1.0\n",
    "c, d = -1.0, 1.0\n",
    "\n",
    "exact = 16/3  # ∫_{-1}^1 ∫_{-1}^1 (2 - x^2 - y^2) dx dy\n",
    "\n",
    "def update(n):\n",
    "    n = max(1, int(n))\n",
    "    dx = (b - a) / n\n",
    "    dy = (d - c) / n\n",
    "\n",
    "    xi = a + (np.arange(n) + 0.5) * dx\n",
    "    yj = c + (np.arange(n) + 0.5) * dy\n",
    "    Xs, Ys = np.meshgrid(xi, yj, indexing=\"xy\")\n",
    "    Zh = f(Xs, Ys).clip(min=0.0)  \n",
    "\n",
    "    x0 = a + np.arange(n) * dx\n",
    "    y0 = c + np.arange(n) * dy\n",
    "    X0, Y0 = np.meshgrid(x0, y0, indexing=\"xy\")\n",
    "    X0r, Y0r, Zhr = X0.ravel(), Y0.ravel(), Zh.ravel()\n",
    "\n",
    "    approx = float(Zhr.sum() * dx * dy)\n",
    "    err = abs(approx - exact)\n",
    "\n",
    "    fig = plt.figure(figsize=(6, 6))\n",
    "    fig.suptitle(\"Convergence of Riemann Sum\", y=0.92, fontsize=14)\n",
    "    ax = fig.add_subplot(111, projection='3d')\n",
    "    ax.set_box_aspect([1,1,0.6])\n",
    "    ax.set_xlim(a, b); ax.set_ylim(c, d); ax.set_zlim(0, 2.2)\n",
    "    ax.set_xlabel(r\"$x$\"); ax.set_ylabel(r\"$y$\"); ax.set_zlabel(r\"$z$\")\n",
    "    ax.grid(False)\n",
    "    ax.view_init(elev=22, azim=-50)\n",
    "\n",
    "    Xb, Yb = np.meshgrid([a, b], [c, d], indexing=\"xy\")\n",
    "    Zb = np.zeros_like(Xb)\n",
    "    ax.plot_surface(Xb, Yb, Zb, alpha=0.12, linewidth=0, antialiased=True)\n",
    "\n",
    "    ax.plot([a,b],[c,c],[0,0], ls=\"--\", lw=1, color=\"0.4\")\n",
    "    ax.plot([a,b],[d,d],[0,0], ls=\"--\", lw=1, color=\"0.4\")\n",
    "    ax.plot([a,a],[c,d],[0,0], ls=\"--\", lw=1, color=\"0.4\")\n",
    "    ax.plot([b,b],[c,d],[0,0], ls=\"--\", lw=1, color=\"0.4\")\n",
    "    ax.text(a, c-0.05, 0, r\"$a$\", ha=\"center\", va=\"top\")\n",
    "    ax.text(b, c-0.05, 0, r\"$b$\", ha=\"center\", va=\"top\")\n",
    "    ax.text(a-0.05, c, 0, r\"$c$\", ha=\"right\", va=\"center\", rotation=90)\n",
    "    ax.text(a-0.05, d, 0, r\"$d$\", ha=\"right\", va=\"center\", rotation=90)\n",
    "\n",
    "    norm = plt.Normalize(Zhr.min(), Zhr.max() if Zhr.max()>0 else 1.0)\n",
    "    colors = cm.Blues(norm(Zhr))\n",
    "\n",
    "    ax.bar3d(X0r, Y0r, np.zeros_like(Zhr), dx, dy, Zhr, shade=True, color=colors)\n",
    "\n",
    "    fig.text(0.14, 0.86, rf\"$n={n}\\quad$ Riemann sum $\\approx$ {approx:.5f}  \"\n",
    "                         rf\"(exact $=16/3\\approx{exact:.5f}$,  error $={err:.2e}$)\")\n",
    "\n",
    "    plt.show()\n",
    "\n",
    "interact(update, n=IntSlider(value=1, min=1, max=120, step=1, description=r\"$n=$\"));"
   ]
  },
  {
   "cell_type": "code",
   "execution_count": null,
   "id": "fdc0d33d-918c-44d8-8b9b-6e8bd254a7e0",
   "metadata": {},
   "outputs": [],
   "source": []
  }
 ],
 "metadata": {
  "kernelspec": {
   "display_name": "Python 3 (ipykernel)",
   "language": "python",
   "name": "python3"
  },
  "language_info": {
   "codemirror_mode": {
    "name": "ipython",
    "version": 3
   },
   "file_extension": ".py",
   "mimetype": "text/x-python",
   "name": "python",
   "nbconvert_exporter": "python",
   "pygments_lexer": "ipython3",
   "version": "3.12.5"
  }
 },
 "nbformat": 4,
 "nbformat_minor": 5
}
