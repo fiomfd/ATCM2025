{
 "cells": [
  {
   "cell_type": "markdown",
   "id": "b07c3306",
   "metadata": {},
   "source": [
    "### Calculus II\n",
    "##### [Hiroyuki Chihara](https://fiomfd.github.io/) (University of the Ryukyus, Okinawa Island, Japan)\n",
    "\n",
    "1. Tangent planes\n",
    "2. Polar coordinates\n",
    "3. Newton's method and gradiend descent\n",
    "4. Riemann sums and Riemann integrals"
   ]
  },
  {
   "cell_type": "code",
   "execution_count": null,
   "id": "b97782a3",
   "metadata": {},
   "outputs": [],
   "source": [
    "from ipywidgets import interact\n",
    "import matplotlib.pyplot as plt\n",
    "plt.rcParams[\"text.usetex\"] = True\n",
    "import numpy as np\n",
    "import math"
   ]
  },
  {
   "cell_type": "markdown",
   "id": "661f19fa",
   "metadata": {},
   "source": [
    "### Tangent Plane of a Surface"
   ]
  },
  {
   "cell_type": "code",
   "execution_count": null,
   "id": "ae4f4e79",
   "metadata": {},
   "outputs": [],
   "source": []
  },
  {
   "cell_type": "markdown",
   "id": "3c77a07a",
   "metadata": {},
   "source": [
    "### 2D Polar Coordinate System\n",
    "$(x,y)=(r\\cos\\theta,r\\sin\\theta),\\quad (r,\\theta)=[0,\\infty)\\times[0,2\\pi).$"
   ]
  },
  {
   "cell_type": "code",
   "execution_count": null,
   "id": "5e3d314c",
   "metadata": {},
   "outputs": [],
   "source": []
  },
  {
   "cell_type": "markdown",
   "id": "c2a808c5",
   "metadata": {},
   "source": [
    "### 3D Polar Coordinate System\n",
    "$(x,y,z)=(r\\sin\\theta\\cos\\varphi, r\\sin\\theta \\sin\\varphi,r\\cos\\theta),\n",
    "\\quad\n",
    "(r,\\theta,\\varphi)\\in[0,\\infty)\\times[0,\\pi]\\times[0,2\\pi).$"
   ]
  },
  {
   "cell_type": "code",
   "execution_count": null,
   "id": "5d79c3fa",
   "metadata": {},
   "outputs": [],
   "source": []
  },
  {
   "cell_type": "markdown",
   "id": "e1181e55",
   "metadata": {},
   "source": [
    "### Newton's Method vs Gradient Descent\n",
    "Given a smooth funtion \n",
    "\n",
    "$f:\\mathbb{R}^n\\ni\\vec{x}=[x_1,\\dotsc,x_n]^T \\mapsto f(\\vec{x})\\in\\mathbb{R}$ \n",
    "\n",
    "and an initial point $\\vec{x}_0\\in\\mathbb{R}^n$, \n",
    "\n",
    "- Newton's method formally defines a sequence $\\{\\vec{x}_n\\}_{n=1,2,3,\\dotsc}$ by \n",
    "\n",
    "$\\vec{x}_{n+1}:=\\vec{x}_n-\\bigl(\\nabla^2f(\\vec{x}_n)\\bigr)^{-1}{\\nabla}f(\\vec{x}_n), \n",
    "\\quad n=1,2,3,\\dotsc.$\n",
    "\n",
    "- The Gradient descent defines a sequence $\\{\\vec{x}_n\\}_{n=1,2,3,\\dotsc}$ by \n",
    "\n",
    "$\\vec{x}_{n+1}:=\\vec{x}_n-s{\\nabla}f(\\vec{x}_n), \\quad n=1,2,3,\\dotsc,\\quad s>0.$"
   ]
  },
  {
   "cell_type": "code",
   "execution_count": null,
   "id": "879fe380",
   "metadata": {},
   "outputs": [],
   "source": []
  },
  {
   "cell_type": "markdown",
   "id": "601f0ec7",
   "metadata": {},
   "source": [
    "### Riemann Sum"
   ]
  },
  {
   "cell_type": "code",
   "execution_count": null,
   "id": "cb8fb6e1",
   "metadata": {},
   "outputs": [],
   "source": []
  },
  {
   "cell_type": "markdown",
   "id": "fc3fb058",
   "metadata": {},
   "source": [
    "### Convergence of Riemann Sum\n",
    "Given a continuous function $f(x,y)$ on $I=[a,b]\\times[c,d]$. Theoretically $f(x,y)$ is Riemann integrable. \n",
    "\n",
    "We have a division of $I$ splitting $[a,b]$ and $[c,d]$ into $n$-equal parts respectively:\n",
    "\n",
    "$I_{jk}=\\left[a+\\dfrac{(b-a)(j-1)}{n},a+\\dfrac{(b-a)j}{n}\\right]\\times\\left[c+\\dfrac{(d-c)(k-1)}{n},c+\\dfrac{(d-c)k}{n}\\right].$\n",
    "\n",
    "Pick up arbitrary $(x_{jk},y_{jk}) \\in I_{jk}$. Define a Riemann sum $R_n$ of $f(x,y)$ by \n",
    "\n",
    "$R_n\n",
    "=\n",
    "\\displaystyle\\sum_{j=1}^n\n",
    "\\displaystyle\\sum_{k=1}^n\n",
    "f(x_{jk},y_{jk})\\lvert{I_{jk}}\\rvert\n",
    "=\n",
    "\\dfrac{(b-a)(d-c)}{n^2}\n",
    "\\displaystyle\\sum_{j=1}^n\n",
    "\\displaystyle\\sum_{k=1}^n\n",
    "f(x_{jk},y_{jk}).$\n",
    "\n",
    "Then \n",
    "\n",
    "$R_n \\rightarrow \n",
    "\\displaystyle\\iint_{I}f(x,y)dxdy \\quad (n \\rightarrow \\infty).$"
   ]
  },
  {
   "cell_type": "code",
   "execution_count": null,
   "id": "df172d9e",
   "metadata": {},
   "outputs": [],
   "source": []
  }
 ],
 "metadata": {
  "kernelspec": {
   "display_name": "Python 3 (ipykernel)",
   "language": "python",
   "name": "python3"
  },
  "language_info": {
   "codemirror_mode": {
    "name": "ipython",
    "version": 3
   },
   "file_extension": ".py",
   "mimetype": "text/x-python",
   "name": "python",
   "nbconvert_exporter": "python",
   "pygments_lexer": "ipython3",
   "version": "3.12.3"
  }
 },
 "nbformat": 4,
 "nbformat_minor": 5
}
